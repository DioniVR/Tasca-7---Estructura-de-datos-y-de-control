{
 "cells": [
  {
   "cell_type": "markdown",
   "metadata": {},
   "source": [
    "Nivell 1"
   ]
  },
  {
   "cell_type": "markdown",
   "metadata": {},
   "source": [
    "- Exercici 1\n",
    "Calculadora de l'índex de massa corporal\n",
    "\n",
    "Escriu una funció que calculi l'IMC ingressat per l'usuari/ària, és a dir, qui ho executi haurà d'ingressar aquestes dades. Pots obtenir més informació del seu càlcul en:\n",
    "\n",
    "-> Índice de masa corporal IMC que es y como se calcula.\n",
    "\n",
    "La funció ha de classificar el resultat en les seves respectives categories"
   ]
  },
  {
   "cell_type": "markdown",
   "metadata": {},
   "source": [
    "Bajo peso: menos de 18,5.\n",
    "Peso normal: 18,5-24,9.\n",
    "Sobrepeso: 25-29,9.\n",
    "Obesidad: más de 30.\n",
    "\n",
    "Para calcular el IMC es necesario dividir el peso en kg de un paciente entre el cuadrado de su altura en metros"
   ]
  },
  {
   "cell_type": "code",
   "execution_count": 1,
   "metadata": {},
   "outputs": [
    {
     "name": "stdout",
     "output_type": "stream",
     "text": [
      "Bienvenido. ¿Cuál es tu nombre?\n"
     ]
    },
    {
     "name": "stdout",
     "output_type": "stream",
     "text": [
      " Hola Dioni. Vamos a proceder a calcular tu Índice de Masa corporal. Llamado IMC\n",
      "Por favor, inserte su peso en kg\n",
      "Por favor inserte su altura en metros.\n",
      "Tu IMC es: 25.16\n",
      "Comentarios: Tiene sobrepeso\n"
     ]
    }
   ],
   "source": [
    "# Vamos a definir una funcion que nos solicitará el nombre del usuario, el peso y la altura.\n",
    "\n",
    "def  solicitud_Datos():\n",
    "\n",
    "    print(\"Bienvenido. ¿Cuál es tu nombre?\") # Solicitamos al usuario/a que ingrese su nombre.\n",
    "\n",
    "    Nombre = input(\"Ingresar nombre\")  # Guardamos el valor que ha ingresado el usuario/a en la variable nombre.\n",
    "\n",
    "    print(f' Hola {Nombre}. Vamos a proceder a calcular tu Índice de Masa corporal. Llamado IMC')  # insertamos un pequeño dialogo para que sea más interactivo.\n",
    "    print(\"Por favor, inserte su peso en kg\")\n",
    "\n",
    "\n",
    "    peso = float(input( \"ingresar peso\")) # Solicitamos al usuario/a que inserte su peso, lo transformamos en un número de tipo decimal y lo asignamos a la variable peso.\n",
    "\n",
    "    print(\"Por favor inserte su altura en metros.\")\n",
    "\n",
    "    altura = float(input(\"Ingrese su altura en m\")) #Solicitamos al usuario/a que inserte su altura en, lo transformatmo en un número tipo deimal y lo asignamos a la variable altura.\n",
    "\n",
    "\n",
    "    return peso, altura\n",
    "\n",
    "# Vamos a definir una funcion que nos calculará el indice de masa corporal. \n",
    "\n",
    "def calculadora_IMC (peso, altura): # Definimos la funcion Calculadora_IMC que tendrá dos argumentos, el peso y la altura.\n",
    "    \n",
    "    IMC = peso / (altura ** 2)  # Indice de masa corporal es el cociente entre el peso y el cuadrado de la altura.\n",
    "    \n",
    "    return IMC\n",
    "\n",
    "\n",
    "\n",
    "# Mediante condicionales devolvemos al usuario/a un feedback de su peso en relacion a los estandares de la OMC\n",
    "\n",
    "def  comentarios_al_usuario (IMC):\n",
    "\n",
    "    if IMC < 18.5:\n",
    "  \n",
    "        return \"Su peso es bajo\"\n",
    "\n",
    "    elif IMC < 24.9:\n",
    "    \n",
    "        return \"Su peso es normal\"\n",
    "   \n",
    "    elif  IMC < 29.9:\n",
    "    \n",
    "        return \"Tiene sobrepeso\"\n",
    "    \n",
    "    else:\n",
    "        return\"Tiene obesidad\"\n",
    "\n",
    "\n",
    "def funcion_principal ():\n",
    "    peso, altura = solicitud_Datos()\n",
    "    IMC = calculadora_IMC (peso, altura)\n",
    "    comentario = comentarios_al_usuario (IMC)\n",
    "\n",
    "    print(f\"Tu IMC es: {IMC:.2f}\")\n",
    "    print(f\"Comentarios: {comentario}\")\n",
    "    \n",
    "funcion_principal()\n"
   ]
  },
  {
   "cell_type": "markdown",
   "metadata": {},
   "source": [
    "Exercici 2\n",
    "Convertidor de temperatures.\n",
    "\n",
    "Existeixen diverses unitats de temperatura utilitzades en diferents contextos i regions. Les més comunes són Celsius (°C), Fahrenheit (°F) i Kelvin (K). També existeixen altres unitats com Rankine (°Ra) i Réaumur (°Re). Selecciona almenys 2 conversors, de tal manera que en introduir una temperatura retorni, com a mínim, dues conversions."
   ]
  },
  {
   "cell_type": "code",
   "execution_count": 2,
   "metadata": {},
   "outputs": [
    {
     "name": "stdout",
     "output_type": "stream",
     "text": [
      "Bienvenido. ¿Cuál es tu nombre?\n",
      "Hola Dioni. Introduzca la temperatura a convertir en grados celsius\n",
      "La temperatura en Grados Fahrenheit es : 303.15 K\n",
      "La temperatura en Grados Fahreheit es : 86.0 ºF\n",
      "La temperatura en Rankine es : 545.67 ºRA\n",
      "La temperatura en Reamur es : 24.0 ºRE \n"
     ]
    }
   ],
   "source": [
    "#Vamos a crear dos funciones las cuales meteremos dentro de otra que será la principal.\n",
    "\n",
    "def solicitar_datos(): # Función para solicitar datos del usuario/a\n",
    "\n",
    "    print(\"Bienvenido. ¿Cuál es tu nombre?\")\n",
    "\n",
    "    Nombre = input(\"Ingresar tu nombre\")  # Solicitamos al usuario/a que inserte su nombre.\n",
    "\n",
    "    print(f'Hola {Nombre}. Introduzca la temperatura a convertir en grados celsius') \n",
    "\n",
    "    Grados_Celsius = float(input(\"Insertar la temperatura en grados celsius\"))\n",
    "\n",
    "    return Grados_Celsius\n",
    "\n",
    "def cambio_uniades (Grados_Celsius):\n",
    "\n",
    "        Kelvin =  Grados_Celsius + 273.15\n",
    "        Grados_Fahrenheit =  ((Grados_Celsius *9)/5) + 32\n",
    "        Rankine = (1.8 * Grados_Celsius ) + 491.67\n",
    "        Reamur = (4* Grados_Celsius)/5\n",
    "        return Kelvin, Grados_Fahrenheit, Rankine, Reamur\n",
    "\n",
    "\n",
    "def funcion_resumen():\n",
    "\n",
    "    Grados_Celsius = solicitar_datos()\n",
    "    Kelvin, Grados_Fahrenheit, Rankine, Reamur = cambio_uniades (Grados_Celsius)\n",
    "\n",
    "    print(f'La temperatura en Grados Fahrenheit es : {Kelvin} K')       \n",
    "\n",
    "    print(f'La temperatura en Grados Fahreheit es : {Grados_Fahrenheit} ºF')\n",
    "\n",
    "    print(f'La temperatura en Rankine es : {Rankine:.2f} ºRA')\n",
    "\n",
    "    print(f'La temperatura en Reamur es : {Reamur} ºRE ')\n",
    "\n",
    "funcion_resumen()"
   ]
  },
  {
   "cell_type": "markdown",
   "metadata": {},
   "source": [
    "Exercici 3\n",
    "Comptador de paraules d'un text.\n",
    "\n",
    "Escriu una funció que donat un text, mostri les vegades que apareix cada paraula."
   ]
  },
  {
   "cell_type": "code",
   "execution_count": 4,
   "metadata": {},
   "outputs": [
    {
     "name": "stdout",
     "output_type": "stream",
     "text": [
      "El texto cuyas palabras quieres contar es : \n",
      " Un client de la empresa en la qual treballes demana una llista de programes molt senzills, però que li facilitarien molts processos. No obstant això, el departament de TU està molt complicat amb el temps, per la qual cosa et demanen que facis la programació.\n",
      " La palabra \"això\" aparece 1 veces\n",
      " La palabra \"amb\" aparece 1 veces\n",
      " La palabra \"client\" aparece 1 veces\n",
      " La palabra \"complicat\" aparece 1 veces\n",
      " La palabra \"cosa\" aparece 1 veces\n",
      " La palabra \"de\" aparece 3 veces\n",
      " La palabra \"demana\" aparece 1 veces\n",
      " La palabra \"demanen\" aparece 1 veces\n",
      " La palabra \"departament\" aparece 1 veces\n",
      " La palabra \"el\" aparece 2 veces\n",
      " La palabra \"empresa\" aparece 1 veces\n",
      " La palabra \"en\" aparece 1 veces\n",
      " La palabra \"està\" aparece 1 veces\n",
      " La palabra \"et\" aparece 1 veces\n",
      " La palabra \"facilitarien\" aparece 1 veces\n",
      " La palabra \"facis\" aparece 1 veces\n",
      " La palabra \"la\" aparece 4 veces\n",
      " La palabra \"li\" aparece 1 veces\n",
      " La palabra \"llista\" aparece 1 veces\n",
      " La palabra \"molt\" aparece 2 veces\n",
      " La palabra \"molts\" aparece 1 veces\n",
      " La palabra \"no\" aparece 1 veces\n",
      " La palabra \"obstant\" aparece 1 veces\n",
      " La palabra \"per\" aparece 1 veces\n",
      " La palabra \"però\" aparece 1 veces\n",
      " La palabra \"processos\" aparece 1 veces\n",
      " La palabra \"programació\" aparece 1 veces\n",
      " La palabra \"programes\" aparece 1 veces\n",
      " La palabra \"qual\" aparece 2 veces\n",
      " La palabra \"que\" aparece 2 veces\n",
      " La palabra \"senzills\" aparece 1 veces\n",
      " La palabra \"temps\" aparece 1 veces\n",
      " La palabra \"treballes\" aparece 1 veces\n",
      " La palabra \"tu\" aparece 1 veces\n",
      " La palabra \"un\" aparece 1 veces\n",
      " La palabra \"una\" aparece 1 veces\n"
     ]
    }
   ],
   "source": [
    "\n",
    "\n",
    "texto = \"Un client de la empresa en la qual treballes demana una llista de programes molt senzills, però que li facilitarien molts processos. No obstant això, el departament de TU està molt complicat amb el temps, per la qual cosa et demanen que facis la programació.\"\n",
    "\n",
    "print(f'El texto cuyas palabras quieres contar es : \\n {texto}')\n",
    "\n",
    "# Vamos a definir una funcion que contará la frecuencia de las palabras.\n",
    "def contador_palabras(texto):\n",
    "    \n",
    "    puntuacion = [\",\" ,\".\", \" \\n\", \":\", \"!\", \";\", \"'\",\"(\", \")\"]  # Definimos los signos de puntuación que vamos a eliminar del texto\n",
    "    \n",
    "    for signo in puntuacion:\n",
    "        texto = texto.replace(signo, \"\") # Sustituimos todos los signos de puntuación por nada\n",
    "    #print(texto)\n",
    "    \n",
    "    texto = texto.lower() # pasamos todas las palabras que están en Mayúsculas a minúsculas que cuente bien y no distinga entre las letras en Mayúsculas y minúsculas como si fuera diferente.\n",
    "    #print(texto)\n",
    "    \n",
    "    palabras_texto = texto.split() # con esta método transformaremos el texto  en una lista  con las palabras del texto.\n",
    "    \n",
    "    palabras_texto = sorted(palabras_texto)  # ordenamos los elementos del array que acabamos de crear alfabéticamente.\n",
    "    #print(palabras_texto)\n",
    "    \n",
    "    frecuencia_palabras = {} # definimos un diccionario que contendrá las diferentes palabras que hay y cuantas veces aparecerá dicha palabra.\n",
    "    \n",
    "    for palabra in palabras_texto:\n",
    "        if palabra in frecuencia_palabras: # Si la palabra ya está incluida en el diccionario\n",
    "            frecuencia_palabras[palabra] += 1\n",
    "        else: #Si la palabra no está en el diccionario, la vamos a incluir y le asignaremos el valor uno.\n",
    "            frecuencia_palabras[palabra] = 1\n",
    "    #print(frecuencia_palabras)\n",
    "    \n",
    "    return frecuencia_palabras\n",
    "\n",
    "\n",
    "frecuencia_palabras = contador_palabras(texto)   #llamamos a la función que hemos creado como contador de palabras y la almancenemas la variable llamada frecuencia_palabras.\n",
    "\n",
    "for palabra in frecuencia_palabras:\n",
    "\n",
    "   print(f' La palabra \"{palabra}\" aparece {frecuencia_palabras[palabra]} veces') # por cada elemento del diccionario vamos una frase donde se indica cada key y el valor de cada key\n"
   ]
  },
  {
   "cell_type": "markdown",
   "metadata": {},
   "source": [
    "Exercici 4\n",
    "\n",
    "Diccionari invers.\n",
    "\n",
    "Resulta que el client té una enquesta molt antiga que s'emmagatzema en un diccionari i els resultats els necessita al revés, és a dir, intercanviats les claus i els valors. Els valors i claus en el diccionari original són únics; si aquest no és el cas, la funció hauria d'imprimir un missatge d'advertiment."
   ]
  },
  {
   "cell_type": "code",
   "execution_count": 4,
   "metadata": {},
   "outputs": [
    {
     "name": "stdout",
     "output_type": "stream",
     "text": [
      "multiple keys for one value\n"
     ]
    }
   ],
   "source": [
    "\n",
    "dictionary = {\"a\" : 1, \"b\": 2, \"c\":2}\n",
    "\n",
    "# Creamos una funcion que revierta el diccionario.\n",
    "\n",
    "def funcion_revertir(dictionary):\n",
    "\n",
    "    reversed_dictionary={}\n",
    "\n",
    "    for keys, values in dictionary.items(): #Vamos a recorrer las llaves y los valores del diccionario.\n",
    "        reversed_dictionary[values] = keys # Invertimos las llave por los vamolres.\n",
    "    return reversed_dictionary\n",
    "\n",
    "\n",
    "#Vamos a usar al funcion arriba detallada en esta otra parte del código.\n",
    "\n",
    "claves = list(dictionary.keys())  # creamos una lista con las llaves del diccionario\n",
    "valores = list(dictionary.values()) # creamos una lista con los valores del diccionario:\n",
    "\n",
    "\n",
    "if len(claves) == len(set(claves)) and  len(valores) == len(set(valores)):\n",
    "    reversed_dictionary = funcion_revertir(dictionary) #Invocamos a funcion  revertir.\n",
    "    print(reversed_dictionary)\n",
    "    print(\"Las claves y los valores de su diccionario son únicos.\")\n",
    "     \n",
    "else:\n",
    "    print(\"multiple keys for one value\")\n",
    "\n",
    "#len(claves) esto nos da el número de elementos que tiene diccionario.\n",
    "# #len(set(claves)) esto  transforma clave en un set que por definición, no puede contener elementos repetidos. Si los tiene, elimina los duplicados.\n",
    "# if len(claves) == len(set(claves)) and  len(valores) == len(set(valores). Estamos comparando el número de elementos de una lista, con el conjunto formado por esa misma lista. Si el número coincide,  los elementos de la lista son únicos y no se repiten.   \n",
    "\n",
    "    "
   ]
  },
  {
   "cell_type": "markdown",
   "metadata": {},
   "source": [
    "Nivell 2\n"
   ]
  },
  {
   "cell_type": "markdown",
   "metadata": {},
   "source": [
    "\n",
    "Exercici 1\n",
    "\n",
    "Diccionari invers amb duplicats\n",
    "\n",
    "Continuant amb l'exercici 4 del nivell 1: al client es va oblidar de comentar un detall i resulta que els valors en el diccionari original poden duplicar-se i més, per la qual cosa les claus intercanviades poden tenir duplicats. En aquest cas, en l'exercici anterior imprimies un missatge d'advertiment, ara, els valors del diccionari resultant hauran d'emmagatzemar-se com una llista. Tingues en compte que si és un valor únic no ha de ser una llista."
   ]
  },
  {
   "cell_type": "code",
   "execution_count": 1,
   "metadata": {},
   "outputs": [
    {
     "name": "stdout",
     "output_type": "stream",
     "text": [
      "{'x': 'apple', 'y': 'banana', 'z': 'banana'}\n",
      "{'apple': 'x', 'banana': ['y', 'z']}\n"
     ]
    }
   ],
   "source": [
    "reverse_dictionary_plus={'x': 'apple', 'y': 'banana', 'z': 'banana'}\n",
    "print(reverse_dictionary_plus)\n",
    "\n",
    "\n",
    "reversed_dictionary = {} # Creamos un diccionario donde se almacenará el diccionario inverso.\n",
    "\n",
    "\n",
    "for keys, values in reverse_dictionary_plus.items():  # vamos a recorrer el diccionario original\n",
    "    if values in reversed_dictionary: # Si los valores están en el diccionario, puede ser que el nuevo valor sea una lista o no.\n",
    "        if isinstance(reversed_dictionary[values],list):  # si es una lista, añadimos el valor lista.\n",
    "            reversed_dictionary[values].append(keys) # Como es una lista, se añade con el método append de las listas.\n",
    "        else:\n",
    "            reversed_dictionary[values] =[reversed_dictionary[values],keys] #Si no es una lista, transformamos el valor en una lista.\n",
    "       \n",
    "    else:\n",
    "        reversed_dictionary[values] = keys # Si el valor es nuevo, ponemos el valor com key y la key como value\n",
    "\n",
    "print(reversed_dictionary)\n",
    "\n",
    "\n",
    "\n"
   ]
  },
  {
   "cell_type": "markdown",
   "metadata": {},
   "source": [
    "Exercici 2\n",
    "\n",
    "Conversió de tipus de dades\n",
    "\n",
    "El client rep una llista de dades i necessita generar dues llistes, la primera on estaran tots els elements que es van poder convertir en flotants i l'altra on estan els elements que no es van poder convertir. Exemple de la llista que rep el client: [ '1.3', 'one' , '1e10' , 'seven', '3-1/2', ('2',1,1.4,'not-a-number'), [1,2,'3','3.4']]"
   ]
  },
  {
   "cell_type": "code",
   "execution_count": 3,
   "metadata": {},
   "outputs": [
    {
     "name": "stdout",
     "output_type": "stream",
     "text": [
      "['1.', 'one', '1e10', 'seven', '3-1/2', '2', 1, 1.4, 'not-a-number', 1, 2, '3', '3.4']\n",
      "La lista con números convertible en flotante es: [1.0, 10000000000.0, 2.0, 1.0, 1.4, 1.0, 2.0, 3.0, 3.4]\n",
      "La lista con elementos que no se pueden convertir es: ['one', 'seven', '3-1/2', 'not-a-number']\n"
     ]
    }
   ],
   "source": [
    "llista = [ '1.3', 'one' , '1e10' , 'seven', '3-1/2', ('2',1,1.4,'not-a-number'), [1,2,'3','3.4']]\n",
    "\n",
    "# Algunos elementos de esta lista son listas y tuples que contiene subelement. Tenemos que desmontar estos listas y tuples para que quede todo en una lista.\n",
    "# Vamos a definir una funcion que genere una única lista con todos los elementos de la lista anterior.\n",
    "\n",
    "def unificador_lista(llista):\n",
    "    \n",
    "    llista2 = [] # Creamos una  nueva lista única que almacenará todos los elementos\n",
    "\n",
    "    for elements in llista: # Recorremos a lista inicial\n",
    "        if isinstance(elements,list) or isinstance(elements,tuple):  # Si elemento es una lista o tupla entonces :\n",
    "            for subelements in elements: # recorremos los elementos de esta tuple o lista.\n",
    "                llista2.append(subelements) # Añadimos los subelementos de la lista o tuple a la Llista2 que hemos creado.\n",
    "        else:\n",
    "            llista2.append(elements) # Si son elementos, sueltos, los añadiremos a la Llista2\n",
    "\n",
    "    return llista2\n",
    "\n",
    "\n",
    "llista2 = unificador_lista(llista) # Invocamos la función que hemos creado arriba.\n",
    "\n",
    "print(llista2)\n",
    "\n",
    "elementos_convertidos = []  # Creamos una lista para añadir los elementos que podremos convertir a tipo float.\n",
    "elementos_no_convertidos = [] # Cremos una lista para almacenar aquellos elementos que por su naturaleza es imposible cambiar a tipo float.\n",
    "\n",
    "#Vamos a intentar cambiar elementos, como por ejemplo string, que por naturaleza nunca podrán ser float. Para evitar que el programa de error usaremos el try/Except\n",
    "\n",
    "\n",
    "for value in llista2: # Recorreremos laa llista2\n",
    "    try:  \n",
    "        new = float(value)  # intetamos cambiar el tipo a float. Si se puede lo almacenamos en una variable llamada new.\n",
    "        elementos_convertidos.append(new)  # añadimos los elementos convertibles a la lista elementos_convertidos\n",
    "    except:\n",
    "        elementos_no_convertidos.append(value) # Si no puede convertirse, añadimos dicho valor a la lista elementos_no_convertidos.\n",
    "\n",
    "\n",
    "\n",
    "\n",
    "print(f'La lista con números convertible en flotante es: {elementos_convertidos}') \n",
    "print(f'La lista con elementos que no se pueden convertir es: {elementos_no_convertidos}')\n",
    "\n",
    "# llista = [ '1.3', 'one' , '1e10' , 'seven', '3-1/2', ('2',1,1.4,'not-a-number'), [1,2,'3','3.4']]\n",
    "\n",
    "\n"
   ]
  },
  {
   "cell_type": "markdown",
   "metadata": {},
   "source": [
    "Nivell 3\n"
   ]
  },
  {
   "cell_type": "markdown",
   "metadata": {},
   "source": [
    "\n",
    "Exercici 1\n",
    "Comptador i endreçador de paraules d'un text.\n",
    "\n",
    "El client va quedar content amb el comptador de paraules, però ara vol llegir arxius TXT i que calculi la freqüència de cada paraula ordenades dins de les entrades habituals del diccionari segons la lletra amb la qual comencen, és a dir, les claus han d'anar de la A a la Z i dins de la A hem d'anar de la A la Z. Per exemple, per a l'arxiu \"tu_me_quieres_blanca.txt\" la sortida esperada seria:"
   ]
  },
  {
   "cell_type": "code",
   "execution_count": 12,
   "metadata": {},
   "outputs": [
    {
     "name": "stdout",
     "output_type": "stream",
     "text": [
      "El texto que cuyas palalabras desea contar es: \n",
      " Tú me quieres alba,\n",
      "me quieres de espumas,\n",
      "me quieres de nácar.\n",
      "Que sea azucena\n",
      "Sobre todas, casta.\n",
      "De perfume tenue.\n",
      "Corola cerrada .\n",
      "\n",
      "Ni un rayo de luna\n",
      "filtrado me haya.\n",
      "Ni una margarita\n",
      "se diga mi hermana.\n",
      "Tú me quieres nívea,\n",
      "tú me quieres blanca,\n",
      "tú me quieres alba.\n",
      "\n",
      "Tú que hubiste todas\n",
      "las copas a mano,\n",
      "de frutos y mieles\n",
      "los labios morados.\n",
      "Tú que en el banquete\n",
      "cubierto de pámpanos\n",
      "dejaste las carnes\n",
      "festejando a Baco.\n",
      "Tú que en los jardines\n",
      "negros del Engaño\n",
      "vestido de rojo\n",
      "corriste al Estrago.\n",
      "\n",
      "Tú que el esqueleto\n",
      "conservas intacto\n",
      "no sé todavía\n",
      "por cuáles milagros,\n",
      "me pretendes blanca\n",
      "(Dios te lo perdone),\n",
      "me pretendes casta\n",
      "(Dios te lo perdone),\n",
      "¡me pretendes alba!\n",
      "\n",
      "Huye hacia los bosques,\n",
      "vete a la montaña;\n",
      "límpiate la boca;\n",
      "vive en las cabañas;\n",
      "toca con las manos\n",
      "la tierra mojada;\n",
      "alimenta el cuerpo\n",
      "con raíz amarga;\n",
      "bebe de las rocas;\n",
      "duerme sobre escarcha;\n",
      "renueva tejidos\n",
      "con salitre y agua:\n",
      "\n",
      "Habla con los pájaros\n",
      "y lévate al alba.\n",
      "Y cuando las carnes\n",
      "te sean tornadas,\n",
      "y cuando hayas puesto\n",
      "en ellas el alma\n",
      "que por las alcobas\n",
      "se quedó enredada,\n",
      "entonces, buen hombre,\n",
      "preténdeme blanca,\n",
      "preténdeme nívea,\n",
      "preténdeme casta.\n",
      "{'a': {'a': 3, 'agua': 1, 'al': 2, 'alba': 4, 'alcobas': 1, 'alimenta': 1, 'alma': 1, 'amarga': 1, 'azucena': 1}, 'b': {'baco': 1, 'banquete': 1, 'bebe': 1, 'blanca': 3, 'boca': 1, 'bosques': 1, 'buen': 1}, 'c': {'cabañas': 1, 'carnes': 2, 'casta': 3, 'cerrada': 1, 'con': 4, 'conservas': 1, 'copas': 1, 'corola': 1, 'corriste': 1, 'cuando': 2, 'cubierto': 1, 'cuerpo': 1, 'cuáles': 1}, 'd': {'de': 8, 'dejaste': 1, 'del': 1, 'diga': 1, 'dios': 2, 'duerme': 1}, 'e': {'el': 4, 'ellas': 1, 'en': 4, 'engaño': 1, 'enredada': 1, 'entonces': 1, 'escarcha': 1, 'espumas': 1, 'esqueleto': 1, 'estrago': 1}, 'f': {'festejando': 1, 'filtrado': 1, 'frutos': 1}, 'h': {'habla': 1, 'hacia': 1, 'haya': 1, 'hayas': 1, 'hermana': 1, 'hombre': 1, 'hubiste': 1, 'huye': 1}, 'i': {'intacto': 1}, 'j': {'jardines': 1}, 'l': {'la': 3, 'labios': 1, 'las': 7, 'lo': 2, 'los': 4, 'luna': 1, 'lévate': 1, 'límpiate': 1}, 'm': {'mano': 1, 'manos': 1, 'margarita': 1, 'me': 9, 'mi': 1, 'mieles': 1, 'milagros': 1, 'mojada': 1, 'montaña': 1, 'morados': 1}, 'n': {'negros': 1, 'ni': 2, 'no': 1, 'nácar': 1, 'nívea': 2}, 'p': {'perdone': 2, 'perfume': 1, 'por': 2, 'pretendes': 3, 'preténdeme': 3, 'puesto': 1, 'pájaros': 1, 'pámpanos': 1}, 'q': {'que': 6, 'quedó': 1, 'quieres': 6}, 'r': {'rayo': 1, 'raíz': 1, 'renueva': 1, 'rocas': 1, 'rojo': 1}, 's': {'salitre': 1, 'se': 2, 'sea': 1, 'sean': 1, 'sobre': 2, 'sé': 1}, 't': {'te': 3, 'tejidos': 1, 'tenue': 1, 'tierra': 1, 'toca': 1, 'todas': 2, 'todavía': 1, 'tornadas': 1, 'tú': 8}, 'u': {'un': 1, 'una': 1}, 'v': {'vestido': 1, 'vete': 1, 'vive': 1}, 'y': {'y': 5}, '¡': {'¡me': 1}}\n"
     ]
    }
   ],
   "source": [
    "# vamos a traer el archivo .txt a python y lo almacenaremos en una variable  a la que llamaremos texto.\n",
    "\n",
    "\n",
    "mitxt = open('C:/Users/vazro/Desktop/FADD/Especialització/07_SPRINT 7 PYTHON/tu_me_quieres_blanca.txt', 'r',  encoding='utf-8')\n",
    "\n",
    "texto = mitxt.read()\n",
    "\n",
    "print(f'El texto que cuyas palalabras desea contar es: \\n {texto}')\n",
    "\n",
    "frecuencia_palabras = contador_palabras(texto)  #llamamos a la función que hemos creado en el ejercicio 3 del nivel 1 de este sprint y lo almacenamos en una variable\n",
    "\n",
    "Final_dictionary ={} # creamos un diccionary que será el que muestre los valos tal cual nos piden en el ejercicio\n",
    "\n",
    "for clave, valor in frecuencia_palabras.items(): # recorremos el diccionario de frecuencia_palabras y sacaremos el primer valor de cada clave\n",
    "    inicial = clave[0] # el primer valor de cada clave lo almacenaremos en una variable llamada inicial. El primer valor es el indice 0 de la clave.\n",
    "    \n",
    "    if inicial not in Final_dictionary:  #si la inicial no estña en el diccionario, lo añadimos.\n",
    "        Final_dictionary[inicial] = {}\n",
    "    \n",
    "    Final_dictionary[inicial][clave]  = valor  #ordenaremos el diccionario por inical, luego clave y finalmente le asignamos un valor.\n",
    "\n",
    "print(Final_dictionary)\n"
   ]
  }
 ],
 "metadata": {
  "kernelspec": {
   "display_name": "Python 3",
   "language": "python",
   "name": "python3"
  },
  "language_info": {
   "codemirror_mode": {
    "name": "ipython",
    "version": 3
   },
   "file_extension": ".py",
   "mimetype": "text/x-python",
   "name": "python",
   "nbconvert_exporter": "python",
   "pygments_lexer": "ipython3",
   "version": "3.12.2"
  }
 },
 "nbformat": 4,
 "nbformat_minor": 2
}
